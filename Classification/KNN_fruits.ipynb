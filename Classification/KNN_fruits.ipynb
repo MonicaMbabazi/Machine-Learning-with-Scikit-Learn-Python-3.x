{
 "cells": [
  {
   "cell_type": "code",
   "execution_count": 2,
   "metadata": {
    "colab": {},
    "colab_type": "code",
    "id": "81PTqU2qrbMe"
   },
   "outputs": [],
   "source": [
    "# Assigning features and label variables\n",
    "# First Feature\n",
    "color= ['Red','Red','Orange','Red','Green','Red','Red','Green','Green','Red',\n",
    "        'Green','Red','Red','Red','Red','Red','Orange','Red','Orange','Red','Red',\n",
    "        'Red','Red','Green','Orange','Red','Green','Green','Red','Red']\n",
    "# Second Feature\n",
    "weight=['70','100','28','3','100','100','3','70','70','7',\n",
    "        '27','7','28','7','70','27','28','3','28','7','100',\n",
    "        '3','7','70','28','7','28','100','27','27']\n",
    "# Third Feature\n",
    "size= ['Small','Big','Medium','Small','Big','Big','Small','Small','Small','Small',\n",
    "        'Medium','Small','Medium','Small','Small','Medium','Medium','Small','Medium','Small',\n",
    "        'Big','Small','Small','Small','Medium','Small','Medium','Big','Medium','Medium']"
   ]
  },
  {
   "cell_type": "code",
   "execution_count": 3,
   "metadata": {
    "colab": {},
    "colab_type": "code",
    "id": "ETVQb64BrlSh"
   },
   "outputs": [],
   "source": [
    "# Label or target varible\n",
    "fruits=['Apple','Apple','Plums','Cherry','Apple','Apple','Cherry','Apple','Apple','Cherry',\n",
    "        'Plums','Cherry','Plums','Cherry','Apple','Plums','Plums','Cherry','Plums','Cherry',\n",
    "        'Apple','Cherry','Cherry','Apple','Plums','Cherry','Plums','Apple','Plums','Plums']"
   ]
  },
  {
   "cell_type": "markdown",
   "metadata": {},
   "source": [
    "<div class=\"alert alert-block alert-warning\">\n",
    "<b>Data Preprocessing:</b> Lable Encoding\n",
    "</div>\n",
    "\n",
    "\n",
    "|Color|LabelEncoder|\n",
    "|-----|------------|\n",
    "|Green|0|\n",
    "|Orange|1|\n",
    "|Red|2|"
   ]
  },
  {
   "cell_type": "code",
   "execution_count": 6,
   "metadata": {
    "colab": {
     "base_uri": "https://localhost:8080/",
     "height": 71
    },
    "colab_type": "code",
    "id": "DAdwqfN5rlWG",
    "outputId": "c573dd1d-b326-4d03-d402-480c229d49bc"
   },
   "outputs": [
    {
     "name": "stdout",
     "output_type": "stream",
     "text": [
      "Orginal Data ['Red', 'Red', 'Orange', 'Red', 'Green', 'Red', 'Red', 'Green', 'Green', 'Red', 'Green', 'Red', 'Red', 'Red', 'Red', 'Red', 'Orange', 'Red', 'Orange', 'Red', 'Red', 'Red', 'Red', 'Green', 'Orange', 'Red', 'Green', 'Green', 'Red', 'Red']\n",
      "Lable Encoder [2 2 1 2 0 2 2 0 0 2 0 2 2 2 2 2 1 2 1 2 2 2 2 0 1 2 0 0 2 2]\n"
     ]
    }
   ],
   "source": [
    "# Import LabelEncoder\n",
    "from sklearn import preprocessing\n",
    "\n",
    "#creating labelEncoder\n",
    "le = preprocessing.LabelEncoder()\n",
    "\n",
    "# Converting string labels into -numbers.\n",
    "color_encoded = le.fit_transform(color)\n",
    "\n",
    "print(\"Orginal Data\",color)\n",
    "print(\"Lable Encoder\",color_encoded)\n",
    "# 0 - Green\n",
    "# 1- Orange\n",
    "# 2 - Red"
   ]
  },
  {
   "cell_type": "markdown",
   "metadata": {},
   "source": [
    "|Lable_Encoded|Size|\n",
    "|---------|---|\n",
    "|2| Small|\n",
    "|1| Medium|\n",
    "|0| Big|"
   ]
  },
  {
   "cell_type": "code",
   "execution_count": 7,
   "metadata": {
    "colab": {
     "base_uri": "https://localhost:8080/",
     "height": 71
    },
    "colab_type": "code",
    "id": "rR3GoDwCrlbj",
    "outputId": "6e97878c-25f1-41bb-b720-104521ca564b"
   },
   "outputs": [
    {
     "name": "stdout",
     "output_type": "stream",
     "text": [
      "['Small', 'Big', 'Medium', 'Small', 'Big', 'Big', 'Small', 'Small', 'Small', 'Small', 'Medium', 'Small', 'Medium', 'Small', 'Small', 'Medium', 'Medium', 'Small', 'Medium', 'Small', 'Big', 'Small', 'Small', 'Small', 'Medium', 'Small', 'Medium', 'Big', 'Medium', 'Medium']\n",
      "[2 0 1 2 0 0 2 2 2 2 1 2 1 2 2 1 1 2 1 2 0 2 2 2 1 2 1 0 1 1]\n"
     ]
    }
   ],
   "source": [
    "size_encoded=le.fit_transform(size)\n",
    "print(size)\n",
    "print(size_encoded)\n",
    "\n",
    "# 2 - Small\n",
    "# 1 - Medium\n",
    "# 0 - Big"
   ]
  },
  {
   "cell_type": "markdown",
   "metadata": {},
   "source": [
    "|Lable_Encoded|Fruits|\n",
    "|---------|---|\n",
    "|0|Apple| \n",
    "|2|Plums|\n",
    "|1|Cherry|\n"
   ]
  },
  {
   "cell_type": "code",
   "execution_count": 8,
   "metadata": {
    "colab": {
     "base_uri": "https://localhost:8080/",
     "height": 68
    },
    "colab_type": "code",
    "id": "SqJvKEd-rlXz",
    "outputId": "43e41086-80b3-4984-c97a-d1d8c820bdb9"
   },
   "outputs": [
    {
     "name": "stdout",
     "output_type": "stream",
     "text": [
      "['Apple', 'Apple', 'Plums', 'Cherry', 'Apple', 'Apple', 'Cherry', 'Apple', 'Apple', 'Cherry', 'Plums', 'Cherry', 'Plums', 'Cherry', 'Apple', 'Plums', 'Plums', 'Cherry', 'Plums', 'Cherry', 'Apple', 'Cherry', 'Cherry', 'Apple', 'Plums', 'Cherry', 'Plums', 'Apple', 'Plums', 'Plums']\n"
     ]
    },
    {
     "data": {
      "text/plain": [
       "array([0, 0, 2, 1, 0, 0, 1, 0, 0, 1, 2, 1, 2, 1, 0, 2, 2, 1, 2, 1, 0, 1,\n",
       "       1, 0, 2, 1, 2, 0, 2, 2], dtype=int64)"
      ]
     },
     "execution_count": 8,
     "metadata": {},
     "output_type": "execute_result"
    }
   ],
   "source": [
    "#target or label\n",
    "label=le.fit_transform(fruits)\n",
    "print(fruits)\n",
    "label\n",
    "# Apple - 0\n",
    "# Plums - 2\n",
    "# Cherry - 1"
   ]
  },
  {
   "cell_type": "code",
   "execution_count": 10,
   "metadata": {
    "colab": {
     "base_uri": "https://localhost:8080/",
     "height": 527
    },
    "colab_type": "code",
    "collapsed": true,
    "id": "3bz6SWfgrleJ",
    "jupyter": {
     "outputs_hidden": true
    },
    "outputId": "f5c0ba2a-1e50-45de-a9d5-2f026dd96ac3"
   },
   "outputs": [
    {
     "data": {
      "text/plain": [
       "array([[  2.,  70.,   2.],\n",
       "       [  2., 100.,   0.],\n",
       "       [  1.,  28.,   1.],\n",
       "       [  2.,   3.,   2.],\n",
       "       [  0., 100.,   0.],\n",
       "       [  2., 100.,   0.],\n",
       "       [  2.,   3.,   2.],\n",
       "       [  0.,  70.,   2.],\n",
       "       [  0.,  70.,   2.],\n",
       "       [  2.,   7.,   2.],\n",
       "       [  0.,  27.,   1.],\n",
       "       [  2.,   7.,   2.],\n",
       "       [  2.,  28.,   1.],\n",
       "       [  2.,   7.,   2.],\n",
       "       [  2.,  70.,   2.],\n",
       "       [  2.,  27.,   1.],\n",
       "       [  1.,  28.,   1.],\n",
       "       [  2.,   3.,   2.],\n",
       "       [  1.,  28.,   1.],\n",
       "       [  2.,   7.,   2.],\n",
       "       [  2., 100.,   0.],\n",
       "       [  2.,   3.,   2.],\n",
       "       [  2.,   7.,   2.],\n",
       "       [  0.,  70.,   2.],\n",
       "       [  1.,  28.,   1.],\n",
       "       [  2.,   7.,   2.],\n",
       "       [  0.,  28.,   1.],\n",
       "       [  0., 100.,   0.],\n",
       "       [  2.,  27.,   1.],\n",
       "       [  2.,  27.,   1.]])"
      ]
     },
     "execution_count": 10,
     "metadata": {},
     "output_type": "execute_result"
    }
   ],
   "source": [
    "import numpy as np\n",
    "\n",
    "#combining color weight and size into  single list of tuples\n",
    "features=list(zip(color_encoded,weight,size_encoded))\n",
    "\n",
    "features = np.array(features,dtype=np.float)\n",
    "features"
   ]
  },
  {
   "cell_type": "code",
   "execution_count": 11,
   "metadata": {
    "colab": {
     "base_uri": "https://localhost:8080/",
     "height": 68
    },
    "colab_type": "code",
    "id": "BVzRJ1ucrljd",
    "outputId": "b0a11cdc-14fe-4fb1-baf6-35bac2403b93"
   },
   "outputs": [
    {
     "data": {
      "text/plain": [
       "KNeighborsClassifier(algorithm='auto', leaf_size=30, metric='euclidean',\n",
       "                     metric_params=None, n_jobs=None, n_neighbors=3, p=2,\n",
       "                     weights='uniform')"
      ]
     },
     "execution_count": 11,
     "metadata": {},
     "output_type": "execute_result"
    }
   ],
   "source": [
    "from sklearn.neighbors import KNeighborsClassifier\n",
    "\n",
    "model = KNeighborsClassifier(n_neighbors=3,metric='euclidean')\n",
    "\n",
    "# Train the model using the training sets\n",
    "model.fit(features,label)"
   ]
  },
  {
   "cell_type": "code",
   "execution_count": 13,
   "metadata": {},
   "outputs": [
    {
     "data": {
      "text/plain": [
       "array([0, 1, 2], dtype=int64)"
      ]
     },
     "execution_count": 13,
     "metadata": {},
     "output_type": "execute_result"
    }
   ],
   "source": [
    "model.classes_"
   ]
  },
  {
   "cell_type": "code",
   "execution_count": 15,
   "metadata": {
    "colab": {
     "base_uri": "https://localhost:8080/",
     "height": 34
    },
    "colab_type": "code",
    "id": "78gLrxLurlgC",
    "outputId": "847efa86-fed0-4560-fcbc-c4b27ab01206"
   },
   "outputs": [
    {
     "name": "stdout",
     "output_type": "stream",
     "text": [
      "[1]\n"
     ]
    }
   ],
   "source": [
    "#predicting the fruit\n",
    "predicted= model.predict([[1,2,1]]) \n",
    "print(predicted)"
   ]
  },
  {
   "cell_type": "code",
   "execution_count": 16,
   "metadata": {},
   "outputs": [
    {
     "data": {
      "text/plain": [
       "1.0"
      ]
     },
     "execution_count": 16,
     "metadata": {},
     "output_type": "execute_result"
    }
   ],
   "source": [
    "model.score(features,label)"
   ]
  },
  {
   "cell_type": "code",
   "execution_count": 22,
   "metadata": {},
   "outputs": [
    {
     "data": {
      "text/plain": [
       "KNeighborsClassifier(algorithm='auto', leaf_size=30, metric='minkowski',\n",
       "                     metric_params=None, n_jobs=None, n_neighbors=4, p=2,\n",
       "                     weights='uniform')"
      ]
     },
     "execution_count": 22,
     "metadata": {},
     "output_type": "execute_result"
    }
   ],
   "source": [
    "from sklearn.neighbors import KNeighborsClassifier\n",
    "\n",
    "model = KNeighborsClassifier(n_neighbors=4)\n",
    "\n",
    "# Train the model using the training sets\n",
    "model.fit(features,label)"
   ]
  },
  {
   "cell_type": "code",
   "execution_count": 23,
   "metadata": {},
   "outputs": [
    {
     "data": {
      "text/plain": [
       "array([0, 1, 2], dtype=int64)"
      ]
     },
     "execution_count": 23,
     "metadata": {},
     "output_type": "execute_result"
    }
   ],
   "source": [
    "model.classes_"
   ]
  },
  {
   "cell_type": "code",
   "execution_count": 24,
   "metadata": {},
   "outputs": [
    {
     "name": "stdout",
     "output_type": "stream",
     "text": [
      "[1]\n"
     ]
    }
   ],
   "source": [
    "#predicting the fruit\n",
    "predicted= model.predict([[1,2,1]]) \n",
    "print(predicted)"
   ]
  },
  {
   "cell_type": "code",
   "execution_count": 25,
   "metadata": {},
   "outputs": [
    {
     "data": {
      "text/plain": [
       "1.0"
      ]
     },
     "execution_count": 25,
     "metadata": {},
     "output_type": "execute_result"
    }
   ],
   "source": [
    "model.score(features,label)"
   ]
  }
 ],
 "metadata": {
  "colab": {
   "collapsed_sections": [],
   "name": "KNN fruits.ipynb",
   "provenance": [],
   "version": "0.3.2"
  },
  "kernelspec": {
   "display_name": "Python 3",
   "language": "python",
   "name": "python3"
  },
  "language_info": {
   "codemirror_mode": {
    "name": "ipython",
    "version": 3
   },
   "file_extension": ".py",
   "mimetype": "text/x-python",
   "name": "python",
   "nbconvert_exporter": "python",
   "pygments_lexer": "ipython3",
   "version": "3.6.8"
  }
 },
 "nbformat": 4,
 "nbformat_minor": 4
}
