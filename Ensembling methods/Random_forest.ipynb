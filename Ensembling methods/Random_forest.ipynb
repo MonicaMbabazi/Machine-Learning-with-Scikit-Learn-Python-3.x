﻿{
  "nbformat": 4,
  "nbformat_minor": 0,
  "metadata": {
    "kernelspec": {
      "display_name": "Python 3",
      "language": "python",
      "name": "python3"
    },
    "language_info": {
      "codemirror_mode": {
        "name": "ipython",
        "version": 3
      },
      "file_extension": ".py",
      "mimetype": "text/x-python",
      "name": "python",
      "nbconvert_exporter": "python",
      "pygments_lexer": "ipython3",
      "version": "3.6.3"
    },
    "colab": {
      "name": "Random_forest.ipynb",
      "provenance": [],
      "collapsed_sections": []
    }
  },
  "cells": [
    {
      "cell_type": "markdown",
      "metadata": {
        "id": "C55GKfGMsfC9",
        "colab_type": "text"
      },
      "source": [
        "<h1 align='center'><u> Understanding Random Forests  in Python</u></h1>\n",
        "\n",
        "\n",
        "Learn about Random Forests and build your own model in Python, for both classification and regression.\n",
        "\n",
        "Random forests is a supervised learning algorithm. It can be used both for classification and regression. It is also the most flexible and easy to use algorithm. A forest is comprised of trees. It is said that the more trees it has, the more robust a forest is. Random forests creates decision trees on randomly selected data samples, gets prediction from each tree and selects the best solution by means of voting. It also provides a pretty good indicator of the feature importance.\n",
        "\n",
        "Random forests has a variety of applications, such as recommendation engines, image classification and feature selection. It can be used to classify loyal loan applicants, identify fraudulent activity and predict diseases. It lies at the base of the Boruta algorithm, which selects important features in a dataset.\n",
        "\n",
        "In this tutorial, you are going to learn about all of the following:\n",
        "* The random forests algorithm\n",
        "* How does the classifier work?\n",
        "* Its advantages and disadvantages\n",
        "* Finding important features\n",
        "* Comparision between random forests and decision trees\n",
        "* Building a classifier with scikit-learn\n",
        "* Finding important features with scikit-learn\n",
        "\n",
        "**The Random Forests Algorithm**\n",
        "\n",
        "Let’s understand the algorithm in `layman’s terms`. Suppose you want to go on a trip and you would like to travel to a place which you will enjoy.\n",
        "\n",
        "So what do you do to find a place that you will like? You can search online, read reviews on travel blogs and portals, or you can also ask your friends.\n",
        "\n",
        "Let’s suppose you have decided to ask your friends, and talked with them about their past travel experience to various places. You will get some recommendations from every friend. Now you have to make a list of those recommended places. Then, you ask them to vote (or select one best place for the trip) from the list of recommended places you made. The place with the highest number of votes will be your final choice for the trip.\n",
        "\n",
        "In the above decision process, there are two parts. First, asking your friends about their individual travel experience and getting one recommendation out of multiple places they have visited. This part is like using the decision tree algorithm. Here, each friend makes a selection of the places he or she has visited so far.\n",
        "\n",
        "The second part, after collecting all the recommendations, is the voting procedure for selecting the best place in the list of recommendations. This whole process of getting recommendations from friends and voting on them to find the best place is known as the random forests algorithm.\n",
        "\n",
        "It technically is an ensemble method (based on the divide-and-conquer approach) of decision trees generated on a randomly split dataset. This collection of decision tree classifiers is also known as the forest. The individual decision trees are generated using an attribute selection indicator such as information gain, gain ratio, and Gini index for each attribute. Each tree depends on an independent random sample. In a classification problem, each tree votes and the most popular class is chosen as the final result. In the case of regression, the average of all the tree outputs is considered as the final result. It is simpler and more powerful compared to the other non-linear classification algorithms.\n",
        "\n",
        "\n",
        "**How does the algorithm work?**\n",
        "\n",
        "It works in four steps:\n",
        "\n",
        "1. Select random samples from a given dataset.\n",
        "2. Construct a decision tree for each sample and get a prediction result from each decision tree.\n",
        "3. Perform a vote for each predicted result.\n",
        "4. Select the prediction result with the most votes as the final prediction.\n",
        "![](https://lh3.googleusercontent.com/-3gXT2NktlW4/XUA3cAGmT3I/AAAAAAAAgNs/QYp6IHQqSQcXlk4qnGgTwZCu3ve9HBkZQCK8BGAs/s512/2019-07-30.png)\n",
        "\n",
        "**Advantages:**\n",
        "\n",
        "* Random forests is considered as a highly accurate and robust method because of the number of decision trees participating in the process.\n",
        "* It does not suffer from the overfitting problem. The main reason is that it takes the average of all the predictions, which cancels out the biases.\n",
        "* The algorithm can be used in both classification and regression problems.\n",
        "* Random forests can also handle missing values. There are two ways to handle these: using median values to replace continuous variables, and computing the proximity-weighted average of missing values.\n",
        "* You can get the relative feature importance, which helps in selecting the most contributing features for the classifier.\n",
        "\n",
        "**Disadvantages:**\n",
        "\n",
        "* Random forests is slow in generating predictions because it has multiple decision trees. Whenever it makes a prediction, all the trees in the forest have to make a prediction for the same given input and then perform voting on it. This whole process is time-consuming.\n",
        "* The model is difficult to interpret compared to a decision tree, where you can easily make a decision by following the path in the tree.\n",
        "\n",
        "**Finding important features**\n",
        "\n",
        "Random forests also offers a good feature selection indicator. Scikit-learn provides an extra variable with the model, which shows the relative importance or contribution of each feature in the prediction. It automatically computes the relevance score of each feature in the training phase. Then it scales the relevance down so that the sum of all scores is 1.\n",
        "\n",
        "This score will help you choose the most important features and drop the least important ones for model building.\n",
        "\n",
        "Random forest uses gini importance or mean decrease in impurity (MDI) to calculate the importance of each feature. Gini importance is also known as the total decrease in node impurity. This is how much the model fit or accuracy decreases when you drop a variable. The larger the decrease, the more significant the variable is. Here, the mean decrease is a significant parameter for variable selection. The Gini index can describe the overall explanatory power of the variables.\n",
        "\n",
        "\n",
        "**Random Forests vs Decision Trees**\n",
        "\n",
        "* Random forests is a set of multiple decision trees.\n",
        "* Deep decision trees may suffer from overfitting, but random forests prevents overfitting by creating trees on random subsets.\n",
        "* Decision trees are computationally faster.\n",
        "* Random forests is difficult to interpret, while a decision tree is easily interpretable and can be converted to rules.\n",
        "\n",
        "**Building a Classifier using Scikit-learn**\n",
        "\n",
        "You will be building a model on the iris flower dataset, which is a very famous classification set. It comprises the sepal length, sepal width, petal length, petal width, and type of flowers. There are three species or classes: setosa, versicolor, and virginia. You will build a model to classify the type of flower. The dataset is available in the scikit-learn library or you can download it from the UCI Machine Learning Repository.\n",
        "\n",
        "Start by importing the datasets library from scikit-learn, and load the iris dataset with load_iris().\n",
        "\n",
        "![](https://lh3.googleusercontent.com/-EwGwwX5TkSs/XV0ZOy1VJOI/AAAAAAAAgpc/zc7v_K_ixok1c8yDPjGkhH-jirMh28NkACK8BGAs/s0/2019-08-21.png)"
      ]
    },
    {
      "cell_type": "code",
      "metadata": {
        "id": "t3FGYhyVsfDB",
        "colab_type": "code",
        "colab": {}
      },
      "source": [
        "#Import scikit-learn dataset library\n",
        "from sklearn import datasets\n",
        "\n",
        "#Load dataset\n",
        "iris = datasets.load_iris()"
      ],
      "execution_count": 0,
      "outputs": []
    },
    {
      "cell_type": "code",
      "metadata": {
        "id": "UPddS_u1sfDG",
        "colab_type": "code",
        "outputId": "e2d2323c-83f8-4258-f351-420145553876",
        "colab": {
          "base_uri": "https://localhost:8080/",
          "height": 51
        }
      },
      "source": [
        "# print the label species(setosa, versicolor,virginica)\n",
        "print(iris.target_names)\n",
        "\n",
        "# print the names of the four features\n",
        "print(iris.feature_names)"
      ],
      "execution_count": 2,
      "outputs": [
        {
          "output_type": "stream",
          "text": [
            "['setosa' 'versicolor' 'virginica']\n",
            "['sepal length (cm)', 'sepal width (cm)', 'petal length (cm)', 'petal width (cm)']\n"
          ],
          "name": "stdout"
        }
      ]
    },
    {
      "cell_type": "code",
      "metadata": {
        "id": "0Ra7xb-dsfDN",
        "colab_type": "code",
        "outputId": "1bced70b-9a06-4094-8e9e-4d3fc67997d5",
        "colab": {
          "base_uri": "https://localhost:8080/",
          "height": 121
        }
      },
      "source": [
        "# print the iris data (top 5 records)\n",
        "print(iris.data[0:5])\n",
        "\n",
        "# print the iris labels (0:setosa, 1:versicolor, 2:virginica)\n",
        "print(iris.target[0:5])"
      ],
      "execution_count": 4,
      "outputs": [
        {
          "output_type": "stream",
          "text": [
            "[[5.1 3.5 1.4 0.2]\n",
            " [4.9 3.  1.4 0.2]\n",
            " [4.7 3.2 1.3 0.2]\n",
            " [4.6 3.1 1.5 0.2]\n",
            " [5.  3.6 1.4 0.2]]\n",
            "[0 0 0 0 0]\n"
          ],
          "name": "stdout"
        }
      ]
    },
    {
      "cell_type": "code",
      "metadata": {
        "id": "5Io6XruZsfDS",
        "colab_type": "code",
        "colab": {}
      },
      "source": [
        "# Creating a DataFrame of given iris dataset.\n",
        "import pandas as pd\n",
        "data=pd.DataFrame({\n",
        "    'sepal length':iris.data[:,0],\n",
        "    'sepal width':iris.data[:,1],\n",
        "    'petal length':iris.data[:,2],\n",
        "    'petal width':iris.data[:,3],\n",
        "    'species':iris.target\n",
        "})\n",
        "data.head()"
      ],
      "execution_count": 0,
      "outputs": []
    },
    {
      "cell_type": "code",
      "metadata": {
        "id": "AUQVuRcgsfDX",
        "colab_type": "code",
        "colab": {}
      },
      "source": [
        "# Import train_test_split function\n",
        "from sklearn.model_selection import train_test_split\n",
        "\n",
        "X=data[['sepal length', 'sepal width', 'petal length', 'petal width']]  # Features\n",
        "y=data['species']  # Labels\n",
        "\n",
        "# Split dataset into training set and test set\n",
        "X_train, X_test, y_train, y_test = train_test_split(X, y, test_size=0.3) # 70% training and 30% test"
      ],
      "execution_count": 0,
      "outputs": []
    },
    {
      "cell_type": "code",
      "metadata": {
        "id": "rL1HJdmpsfDb",
        "colab_type": "code",
        "outputId": "810bb9e7-28a4-4a07-8e8d-1271090fa5d7",
        "colab": {
          "base_uri": "https://localhost:8080/",
          "height": 34
        }
      },
      "source": [
        "#Import Random Forest Model\n",
        "from sklearn.ensemble import RandomForestClassifier\n",
        "\n",
        "#Create a Gaussian Classifier\n",
        "clf=RandomForestClassifier(n_estimators=100)\n",
        "\n",
        "#Train the model using the training sets y_pred=clf.predict(X_test)\n",
        "clf.fit(X_train,y_train)\n",
        "\n",
        "y_pred=clf.predict(X_test)\n",
        "y_pred[0:5]"
      ],
      "execution_count": 7,
      "outputs": [
        {
          "output_type": "execute_result",
          "data": {
            "text/plain": [
              "array([2, 1, 0, 1, 2])"
            ]
          },
          "metadata": {
            "tags": []
          },
          "execution_count": 7
        }
      ]
    },
    {
      "cell_type": "code",
      "metadata": {
        "id": "kl-ne66TT4fS",
        "colab_type": "code",
        "outputId": "b3a19bab-fb66-4de9-cbee-35a9c0ecfd78",
        "colab": {
          "base_uri": "https://localhost:8080/",
          "height": 34
        }
      },
      "source": [
        "clf.score(X_train,y_train)"
      ],
      "execution_count": 8,
      "outputs": [
        {
          "output_type": "execute_result",
          "data": {
            "text/plain": [
              "1.0"
            ]
          },
          "metadata": {
            "tags": []
          },
          "execution_count": 8
        }
      ]
    },
    {
      "cell_type": "code",
      "metadata": {
        "id": "SP8vPcINT_Pl",
        "colab_type": "code",
        "outputId": "59bf124c-cdec-465e-94c2-5f4a8b4511ca",
        "colab": {
          "base_uri": "https://localhost:8080/",
          "height": 34
        }
      },
      "source": [
        "clf.score(X_test,y_test)"
      ],
      "execution_count": 9,
      "outputs": [
        {
          "output_type": "execute_result",
          "data": {
            "text/plain": [
              "0.9555555555555556"
            ]
          },
          "metadata": {
            "tags": []
          },
          "execution_count": 9
        }
      ]
    },
    {
      "cell_type": "code",
      "metadata": {
        "id": "D43fJh8-sfDh",
        "colab_type": "code",
        "outputId": "b3f7989b-55e3-44a5-bc4f-5c33c2a88eef",
        "colab": {
          "base_uri": "https://localhost:8080/",
          "height": 34
        }
      },
      "source": [
        "#Import scikit-learn metrics module for accuracy calculation\n",
        "from sklearn import metrics\n",
        "# Model Accuracy, how often is the classifier correct?\n",
        "print(\"Accuracy:\",metrics.accuracy_score(y_test, y_pred))"
      ],
      "execution_count": 10,
      "outputs": [
        {
          "output_type": "stream",
          "text": [
            "Accuracy: 0.9555555555555556\n"
          ],
          "name": "stdout"
        }
      ]
    },
    {
      "cell_type": "markdown",
      "metadata": {
        "id": "IqZkb2kvsfDm",
        "colab_type": "text"
      },
      "source": [
        "You can also make a prediction for a single item, for example:\n",
        "\n",
        "1. sepal length = 3\n",
        "2. sepal width = 5\n",
        "3. petal length = 4\n",
        "4. petal width = 2\n",
        "\n",
        "Now you can predict which type of flower it is."
      ]
    },
    {
      "cell_type": "code",
      "metadata": {
        "id": "PSJRQqrPsfDn",
        "colab_type": "code",
        "outputId": "5b8dc42b-d2eb-4400-e90d-9a66bc08391d",
        "colab": {
          "base_uri": "https://localhost:8080/",
          "height": 34
        }
      },
      "source": [
        "clf.predict([[3, 5, 4, 2]])"
      ],
      "execution_count": 11,
      "outputs": [
        {
          "output_type": "execute_result",
          "data": {
            "text/plain": [
              "array([2])"
            ]
          },
          "metadata": {
            "tags": []
          },
          "execution_count": 11
        }
      ]
    },
    {
      "cell_type": "markdown",
      "metadata": {
        "id": "Pnm_bhcqsfDs",
        "colab_type": "text"
      },
      "source": [
        "Here, 2 indicates the flower type Virginica."
      ]
    },
    {
      "cell_type": "markdown",
      "metadata": {
        "id": "Ukzwv826sfDu",
        "colab_type": "text"
      },
      "source": [
        "**Finding Important Features in Scikit-learn**\n",
        "\n",
        "Here, you are finding important features or selecting features in the IRIS dataset. In scikit-learn, you can perform this task in the following steps:\n",
        "\n",
        "* First, you need to create a random forests model.\n",
        "* Second, use the feature importance variable to see feature importance scores.\n",
        "* Third, visualize these scores using the seaborn library."
      ]
    },
    {
      "cell_type": "code",
      "metadata": {
        "id": "GZqZzvCEsfDv",
        "colab_type": "code",
        "outputId": "62791fbe-c732-4c5e-ae22-f57d1df815a4",
        "colab": {
          "base_uri": "https://localhost:8080/",
          "height": 156
        }
      },
      "source": [
        "from sklearn.ensemble import RandomForestClassifier\n",
        "\n",
        "#Create a Gaussian Classifier\n",
        "clf=RandomForestClassifier(n_estimators=100)\n",
        "\n",
        "#Train the model using the training sets y_pred=clf.predict(X_test)\n",
        "clf.fit(X_train,y_train)"
      ],
      "execution_count": 12,
      "outputs": [
        {
          "output_type": "execute_result",
          "data": {
            "text/plain": [
              "RandomForestClassifier(bootstrap=True, ccp_alpha=0.0, class_weight=None,\n",
              "                       criterion='gini', max_depth=None, max_features='auto',\n",
              "                       max_leaf_nodes=None, max_samples=None,\n",
              "                       min_impurity_decrease=0.0, min_impurity_split=None,\n",
              "                       min_samples_leaf=1, min_samples_split=2,\n",
              "                       min_weight_fraction_leaf=0.0, n_estimators=100,\n",
              "                       n_jobs=None, oob_score=False, random_state=None,\n",
              "                       verbose=0, warm_start=False)"
            ]
          },
          "metadata": {
            "tags": []
          },
          "execution_count": 12
        }
      ]
    },
    {
      "cell_type": "code",
      "metadata": {
        "id": "R75OILglsfD5",
        "colab_type": "code",
        "outputId": "61eb9356-bfb3-4598-a550-cc88c841855b",
        "colab": {
          "base_uri": "https://localhost:8080/",
          "height": 104
        }
      },
      "source": [
        "import pandas as pd\n",
        "feature_imp = pd.Series(clf.feature_importances_,index=iris.feature_names).sort_values(ascending=False)\n",
        "feature_imp"
      ],
      "execution_count": 13,
      "outputs": [
        {
          "output_type": "execute_result",
          "data": {
            "text/plain": [
              "petal width (cm)     0.487840\n",
              "petal length (cm)    0.401776\n",
              "sepal length (cm)    0.073148\n",
              "sepal width (cm)     0.037235\n",
              "dtype: float64"
            ]
          },
          "metadata": {
            "tags": []
          },
          "execution_count": 13
        }
      ]
    },
    {
      "cell_type": "markdown",
      "metadata": {
        "id": "Sm1aerv7sfD_",
        "colab_type": "text"
      },
      "source": [
        "You can also visualize the feature importance. Visualizations are easy to understand and interpretable.\n",
        "\n",
        "For visualization, you can use a combination of matplotlib and seaborn. Because seaborn is built on top of matplotlib, it offers a number of customized themes and provides additional plot types. Matplotlib is a superset of seaborn and both are equally important for good visualizations."
      ]
    },
    {
      "cell_type": "code",
      "metadata": {
        "id": "JIXsoknlsfEA",
        "colab_type": "code",
        "outputId": "c148e083-2f8f-4565-b363-41caa0a8cd1f",
        "colab": {
          "base_uri": "https://localhost:8080/",
          "height": 312
        }
      },
      "source": [
        "import matplotlib.pyplot as plt\n",
        "import seaborn as sns\n",
        "%matplotlib inline\n",
        "# Creating a bar plot\n",
        "sns.barplot(x=feature_imp, y=feature_imp.index)\n",
        "# Add labels to your graph\n",
        "plt.xlabel('Feature Importance Score')\n",
        "plt.ylabel('Features')\n",
        "plt.title(\"Visualizing Important Features\")\n",
        "plt.legend()\n",
        "plt.show()"
      ],
      "execution_count": 14,
      "outputs": [
        {
          "output_type": "stream",
          "text": [
            "No handles with labels found to put in legend.\n"
          ],
          "name": "stderr"
        },
        {
          "output_type": "display_data",
          "data": {
            "image/png": "[encoded data removed]",
            "text/plain": [
              "<Figure size 432x288 with 1 Axes>"
            ]
          },
          "metadata": {
            "tags": []
          }
        }
      ]
    },
    {
      "cell_type": "markdown",
      "metadata": {
        "id": "Cv8Nf9g0sfEH",
        "colab_type": "text"
      },
      "source": [
        "### Generating the Model on Selected Features\n",
        "Here, you can remove the \"sepal width\" feature because it has very low importance, and select the 3 remaining features."
      ]
    },
    {
      "cell_type": "code",
      "metadata": {
        "id": "ywwzeYrOsfEJ",
        "colab_type": "code",
        "colab": {}
      },
      "source": [
        "# Import train_test_split function\n",
        "from sklearn.model_selection import train_test_split\n",
        "# Split dataset into features and labels\n",
        "X=data[['petal length', 'petal width','sepal length']]  # Removed feature \"sepal length\"\n",
        "y=data['species']                                       \n",
        "# Split dataset into training set and test set\n",
        "X_train, X_test, y_train, y_test = train_test_split(X, y, test_size=0.70, random_state=5) # 70% training and 30% test"
      ],
      "execution_count": 0,
      "outputs": []
    },
    {
      "cell_type": "markdown",
      "metadata": {
        "id": "h__pHLEdsfEQ",
        "colab_type": "text"
      },
      "source": [
        "After spliting, you will generate a model on the selected training set features, perform predictions on the selected test set features, and compare actual and predicted values."
      ]
    },
    {
      "cell_type": "code",
      "metadata": {
        "id": "pGmir1MFsfES",
        "colab_type": "code",
        "outputId": "ecb0d5fc-5f76-4753-e24e-954f13583787",
        "colab": {
          "base_uri": "https://localhost:8080/",
          "height": 33
        }
      },
      "source": [
        "from sklearn.ensemble import RandomForestClassifier\n",
        "\n",
        "#Create a Gaussian Classifier\n",
        "clf=RandomForestClassifier(n_estimators=100)\n",
        "\n",
        "#Train the model using the training sets y_pred=clf.predict(X_test)\n",
        "clf.fit(X_train,y_train)\n",
        "\n",
        "# prediction on test set\n",
        "y_pred=clf.predict(X_test)\n",
        "\n",
        "#Import scikit-learn metrics module for accuracy calculation\n",
        "from sklearn import metrics\n",
        "# Model Accuracy, how often is the classifier correct?\n",
        "print(\"Accuracy:\",metrics.accuracy_score(y_test, y_pred))\n"
      ],
      "execution_count": 16,
      "outputs": [
        {
          "output_type": "stream",
          "text": [
            "Accuracy: 0.9523809523809523\n"
          ],
          "name": "stdout"
        }
      ]
    },
    {
      "cell_type": "code",
      "metadata": {
        "id": "ylhGR9pLsfEW",
        "colab_type": "code",
        "outputId": "2aaa6c21-75aa-4bd3-bb90-f1450faba171",
        "colab": {
          "base_uri": "https://localhost:8080/",
          "height": 378
        }
      },
      "source": [
        "# Model (can also use single decision tree)\n",
        "from sklearn.ensemble import RandomForestClassifier\n",
        "model = RandomForestClassifier(n_estimators=100)\n",
        "\n",
        "# Train\n",
        "model.fit(iris.data, iris.target)\n",
        "# Extract single tree\n",
        "\n",
        "estimator = model.estimators_[43]\n",
        "\n",
        "from sklearn.tree import export_graphviz\n",
        "# Export as dot file\n",
        "export_graphviz(estimator, out_file='tree.dot', \n",
        "                feature_names = iris.feature_names,\n",
        "                class_names = iris.target_names,\n",
        "                rounded = True, proportion = False, \n",
        "                precision = 2, filled = True)\n",
        "\n",
        "# Convert to png using system command (requires Graphviz)\n",
        "from subprocess import call\n",
        "call(['dot', '-Tpng', 'tree.dot', '-o', 'tree.png', '-Gdpi=60'])\n",
        "\n",
        "# Display in jupyter notebook\n",
        "from IPython.display import Image\n",
        "Image(filename = 'tree.png')"
      ],
      "execution_count": 23,
      "outputs": [
        {
          "output_type": "execute_result",
          "data": {
            "image/png": "[encoded data removed]",
            "text/plain": [
              "<IPython.core.display.Image object>"
            ]
          },
          "metadata": {
            "tags": []
          },
          "execution_count": 23
        }
      ]
    },
    {
      "cell_type": "code",
      "metadata": {
        "id": "ey0QB1NzaQq8",
        "colab_type": "code",
        "colab": {}
      },
      "source": [
        ""
      ],
      "execution_count": 0,
      "outputs": []
    }
  ]
}